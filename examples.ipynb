{
 "cells": [
  {
   "cell_type": "code",
   "execution_count": 2,
   "metadata": {
    "colab": {
     "autoexec": {
      "startup": false,
      "wait_interval": 0
     },
     "base_uri": "https://localhost:8080/",
     "height": 615,
     "output_extras": [
      {
       "item_id": 2
      }
     ]
    },
    "colab_type": "code",
    "executionInfo": {
     "elapsed": 213,
     "status": "ok",
     "timestamp": 1518127771590,
     "user": {
      "displayName": "Ezequiel Arneodo",
      "photoUrl": "https://lh3.googleusercontent.com/a/default-user=s128",
      "userId": "117632829181518881344"
     },
     "user_tz": 480
    },
    "id": "zyXEmtx1Ghiy",
    "outputId": "78f3c178-d8f5-4d28-ac65-e4d3eead79e9"
   },
   "outputs": [
    {
     "ename": "ImportError",
     "evalue": "No module named 'googleapiclient'",
     "output_type": "error",
     "traceback": [
      "\u001b[0;31m---------------------------------------------------------------------------\u001b[0m",
      "\u001b[0;31mImportError\u001b[0m                               Traceback (most recent call last)",
      "\u001b[0;32m<ipython-input-2-3496f435574f>\u001b[0m in \u001b[0;36m<module>\u001b[0;34m()\u001b[0m\n\u001b[1;32m      4\u001b[0m \u001b[0;32mimport\u001b[0m \u001b[0mtidydrive\u001b[0m \u001b[0;32mas\u001b[0m \u001b[0mtd\u001b[0m\u001b[0;34m\u001b[0m\u001b[0m\n\u001b[1;32m      5\u001b[0m \u001b[0;34m\u001b[0m\u001b[0m\n\u001b[0;32m----> 6\u001b[0;31m \u001b[0;32mfrom\u001b[0m \u001b[0mgoogleapiclient\u001b[0m\u001b[0;34m.\u001b[0m\u001b[0mdiscovery\u001b[0m \u001b[0;32mimport\u001b[0m \u001b[0mbuild\u001b[0m\u001b[0;34m\u001b[0m\u001b[0m\n\u001b[0m\u001b[1;32m      7\u001b[0m \u001b[0;34m\u001b[0m\u001b[0m\n\u001b[1;32m      8\u001b[0m \u001b[0mlogger\u001b[0m \u001b[0;34m=\u001b[0m \u001b[0mlogging\u001b[0m\u001b[0;34m.\u001b[0m\u001b[0mgetLogger\u001b[0m\u001b[0;34m(\u001b[0m\u001b[0;34m)\u001b[0m\u001b[0;34m\u001b[0m\u001b[0m\n",
      "\u001b[0;31mImportError\u001b[0m: No module named 'googleapiclient'"
     ]
    }
   ],
   "source": [
    "import os\n",
    "import logging\n",
    "import tqdm\n",
    "import tidydrive as td\n",
    "\n",
    "from googleapiclient.discovery import build\n",
    "\n",
    "logger = logging.getLogger()\n",
    "handler = logging.StreamHandler()\n",
    "formatter = logging.Formatter(\n",
    "        '%(asctime)s %(name)-12s %(levelname)-8s %(message)s')\n",
    "handler.setFormatter(formatter)\n",
    "logger.addHandler(handler)\n",
    "logger.setLevel(logging.DEBUG)\n",
    "\n",
    "\n",
    "auth.authenticate_user()\n",
    "drive_service = build('drive', 'v3')"
   ]
  },
  {
   "cell_type": "markdown",
   "metadata": {
    "colab_type": "text",
    "id": "u1ilZxPlWEYf"
   },
   "source": [
    "## Functions for downloading/uploading large files"
   ]
  },
  {
   "cell_type": "code",
   "execution_count": 0,
   "metadata": {
    "colab": {
     "autoexec": {
      "startup": false,
      "wait_interval": 0
     }
    },
    "colab_type": "code",
    "collapsed": true,
    "id": "mFYOwEbtWCaX"
   },
   "outputs": [],
   "source": [
    "import io\n",
    "import sys\n",
    "import logging\n",
    "\n",
    "from apiclient.http import MediaIoBaseDownload, MediaFileUpload\n",
    "from googleapiclient import errors\n",
    "\n",
    "\n",
    "def retry_wrapper(default_retries=5, default_catch_codes=[403, 503]):\n",
    "    '''\n",
    "    A doble wrapper to make a function retry defautl_retries if a code error is found.\n",
    "    (This is to prevent things from breaking if google resources are temporally unavailable.\n",
    "    :param default_retries:\n",
    "    :param default_catch_codes:\n",
    "    :return:\n",
    "    '''\n",
    "    def wrap(service_function):\n",
    "        def persistent_function(*args, **kwargs):\n",
    "            if 'retries' in kwargs.keys():\n",
    "                retries = kwargs['retries']\n",
    "            else:\n",
    "                retries = default_retries\n",
    "            if 'codes' in kwargs.keys():\n",
    "                catch_codes = default_catch_codes\n",
    "\n",
    "            logger.debug('retries {}'.format(retries))\n",
    "            for n in range(retries):\n",
    "                try:\n",
    "                    return_value = service_function(*args, **kwargs)\n",
    "                    return return_value\n",
    "                except errors.HttpError as err:\n",
    "                    error = json.loads(err.content)\n",
    "                    if error.get('code') in catch_codes:\n",
    "                        logger.debug('Error {0}, waiting to retry {1}'.format(error.get('code'), n))\n",
    "                        time.sleep(2**n)\n",
    "                    else:\n",
    "                        raise\n",
    "            logger.warning('Critical error')\n",
    "            return None\n",
    "        return persistent_function\n",
    "    return wrap\n",
    "  \n",
    "def md5(file_path):\n",
    "    hash_md5 = hashlib.md5()\n",
    "    with open(file_path, \"rb\") as f:\n",
    "        for chunk in iter(lambda: f.read(4096), b\"\"):\n",
    "            hash_md5.update(chunk)\n",
    "    return hash_md5.hexdigest()\n",
    "  \n",
    "\n",
    "def get_file_item(service, file_id, retries=5):\n",
    "    for n in range(retries):\n",
    "        try:\n",
    "            file_item = service.files().get(fileId=file_id, fields='id, name, size').execute()\n",
    "            return file_item\n",
    "        except errors.HttpError as e:\n",
    "            error = json.loads(e.content)\n",
    "            if error.get('code') == 403 or error.get('code') == 503:\n",
    "                logger.warning('Error  {}'.format(error.get('errors')[0].get('reason')))\n",
    "                time.sleep((2**n))\n",
    "            else:\n",
    "                raise\n",
    "    logger.warning('Error in get_file_item')\n",
    "    return None\n",
    "\n",
    "\n",
    "def download_chunk(downloader, retries=5):\n",
    "    for n in range(retries):\n",
    "        try:\n",
    "            status, done = downloader.next_chunk()\n",
    "            return status, done\n",
    "        except errors.HttpError as e:\n",
    "            error = json.loads(e.content)\n",
    "            if error.get('code') == 403 or error.get('code') == 503 or error.get('code') == 500:\n",
    "                logger.warning('Error  {}'.format(error.get('errors')[0].get('reason')))\n",
    "                time.sleep((2**n))\n",
    "            else:\n",
    "                raise\n",
    "\n",
    "def download_file(service, file_id, dest_path, retries=5, chunk_size=1048576):\n",
    "    file_obj = get_file_item(service, file_id)\n",
    "    file_name = file_obj['name']\n",
    "    print(file_obj)\n",
    "    logger.info('Downloading file {} to folder {}'.format(file_name, dest_path))\n",
    "    request = service.files().get_media(fileId=file_id)\n",
    "    fh = io.FileIO(os.path.join(dest_path, file_name), 'wb')\n",
    "    downloader = MediaIoBaseDownload(fh, request, chunksize=chunk_size)\n",
    "    done = False\n",
    "    total_chunks = int(file_obj['size'])//chunk_size\n",
    "    sys.stdout.flush()\n",
    "    progress_bar = tqdm.tqdm(total=total_chunks)\n",
    "    while done is False:\n",
    "        try:\n",
    "            status, done = download_chunk(downloader, retries=retries);\n",
    "            progress_bar.update(1);\n",
    "        except errors.HttpError as err:\n",
    "            print(err)\n",
    "            if int(err.resp['status']) == 503:\n",
    "                logger.warning('Sevice Unavailable, retrying')\n",
    "            else:\n",
    "                raise\n",
    "\n",
    "    logger.info('Download complete')\n",
    "    return True\n",
    "  "
   ]
  },
  {
   "cell_type": "code",
   "execution_count": 3,
   "metadata": {
    "colab": {
     "autoexec": {
      "startup": false,
      "wait_interval": 0
     },
     "base_uri": "https://localhost:8080/",
     "height": 71,
     "output_extras": [
      {
       "item_id": 1
      }
     ]
    },
    "colab_type": "code",
    "executionInfo": {
     "elapsed": 832,
     "status": "ok",
     "timestamp": 1518127779878,
     "user": {
      "displayName": "Ezequiel Arneodo",
      "photoUrl": "https://lh3.googleusercontent.com/a/default-user=s128",
      "userId": "117632829181518881344"
     },
     "user_tz": 480
    },
    "id": "hG0fQkdwyMNm",
    "outputId": "fa91d936-73a1-47a6-b4bb-b5ed74037425"
   },
   "outputs": [
    {
     "name": "stderr",
     "output_type": "stream",
     "text": [
      "2018-02-08 22:08:56,756 googleapiclient.discovery INFO     URL being requested: GET https://www.googleapis.com/drive/v3/files?q=parents%3D%270BxJutEqkpkV4dkFkNjVmbFgwX2M%27+and+trashed%3Dfalse+and+name%3D%27stim_data%27&fields=files%28id%2C+name%2C+mimeType%2C+parents%2C+size%29&alt=json\n",
      "2018-02-08 22:08:56,760 google_auth_httplib2 DEBUG    Making request: POST https://accounts.google.com/o/oauth2/token\n"
     ]
    }
   ],
   "source": [
    "def path_parts(path):\n",
    "  path_parts = []\n",
    "  while(True):\n",
    "    path, folder = os.path.split(os.path.abspath(path))\n",
    "    if (folder == ''):\n",
    "      break\n",
    "    path_parts.append(folder)\n",
    "  return path_parts[::-1]\n",
    "\n",
    "def make_query(query_par):\n",
    "  q = \"\"\n",
    "  if query_par['parents']:\n",
    "    q += \"'{}' in parents\".format(query_par['parents'])\n",
    "  del query_par['parents']\n",
    "  \n",
    "  if query_par['trashed']:\n",
    "    q += \" and trashed={}\".format(query_par['trashed'])\n",
    "  del query_par['trashed']\n",
    "  \n",
    "  q_terms = ([\" and {0}='{1}'\".format(k, v) for k, v in query_par.items() if v])\n",
    "  return {'q': ''.join([q] + q_terms)}\n",
    "    \n",
    "\n",
    "class TidyDrive:\n",
    "  def __init__(self, service):\n",
    "    self.service = service\n",
    "    self.query_fields = \"files(id, name, mimeType, parents, size)\"\n",
    "    self.default_query_par = {'parents': None,\n",
    "                         'trashed': 'false',\n",
    "                         'title': None,\n",
    "                          'type': None,\n",
    "                          'pattern': None,\n",
    "                          'id': None\n",
    "                          }\n",
    " \n",
    "  def get_single_child(self, name, parent_id='root'):\n",
    "    query = \"parents='{0}' and trashed=false and name='{1}'\".format(parent_id, name)\n",
    "    results = self.service.files().list(q=query, \n",
    "                                     fields=self.query_fields).execute()\n",
    "    list_found = items = results.get('files', [])\n",
    "    if len(list_found) > 1:\n",
    "      raise RuntimeError('Found more than 1 file with the name')\n",
    "    return list_found\n",
    "  \n",
    "  def get_by_path(self, path, parent_id='root'):\n",
    "  # gets a path relative to a parent_id\n",
    "  # returns a query result\n",
    "    path_list = path_parts(os.path.abspath(path))\n",
    "  \n",
    "    for name in path_list:\n",
    "      #print(parent_id)\n",
    "      found_in_parent = self.get_single_child(name, parent_id)\n",
    "      # check that the size of found is exactly 1\n",
    "      parent_id = found_in_parent[0]['id']\n",
    "\n",
    "    #print(found_in_parent[0]['id'])\n",
    "    return found_in_parent[0]\n",
    "\n",
    "  def isdir(self, file_obj):\n",
    "    return file_obj['mimeType'] == 'application/vnd.google-apps.folder'\n",
    "  \n",
    "  def size(self, file_obj):\n",
    "    raise NotImplementedError\n",
    "    return file_obj['fileSize']\n",
    "    \n",
    "  def listdir(self, file_obj):\n",
    "    if not (self.isdir(file_obj) or file_obj['id'] == 'root'):\n",
    "      raise ValueError('Not a dir {}'.format(file_obj))\n",
    "    query = \"parents='{0}' and trashed=false\".format(file_obj['id'])\n",
    "    results = self.service.files().list(q=query, \n",
    "                                     fields=self.query_fields).execute()\n",
    "    list_found = items = results.get('files', [])\n",
    "    #return list_found\n",
    "    return list(map(lambda x: x['name'], list_found))\n",
    "  \n",
    "  def download(self, file_obj, dest_path):\n",
    "    return download_file(self.gauth.service, file_obj['id'], dest_path, retries=5)\n",
    "  \n",
    "  def mkdir(self, parent_file_obj, name):\n",
    "    if not (self.isdir(parent_file_obj) or parent_file_obj['id'] == 'root'):\n",
    "      raise ValueError('Not a dir {}'.format(parent_file_obj))\n",
    "    \n",
    "    if len(self.get_single_child(name, parent_id=parent_file_obj['id'])) > 0:\n",
    "      raise RuntimeError('File already exists {}'.format(name))\n",
    "    \n",
    "    fold_meta = {'name': name,\n",
    "           'parents': [parent_file_obj['id']],\n",
    "            'mimeType': 'application/vnd.google-apps.folder'\n",
    "           }\n",
    "\n",
    "    new_file = self.service.files().create(body=fold_meta, fields='id').execute()\n",
    "    return new_file\n",
    "  \n",
    "  def move(self, source_file_obj, dest_file_obj):\n",
    "    if not (self.isdir(dest_file_obj) or dest_file_obj['id'] == 'root'):\n",
    "      raise ValueError('Not a dir {}'.format(dest_file_obj))\n",
    "    file = self.service.files().get(fileId=source_file_obj['id'],\n",
    "                                 fields='parents').execute();\n",
    "    previous_parents = \",\".join(file.get('parents'))\n",
    "    file = self.service.files().update(fileId=source_file_obj['id'],\n",
    "                                        addParents=dest_file_obj['id'],\n",
    "                                        removeParents=previous_parents,\n",
    "                                        fields='id, parents').execute()\n",
    "    return file\n",
    "   \n",
    "one_drive = TidyDrive(drive_service)\n",
    "plist = one_drive.get_single_child('stim_data', '0BxJutEqkpkV4dkFkNjVmbFgwX2M')\n",
    "\n",
    "#one_drive.drive_find(parents='root', type='folder')"
   ]
  },
  {
   "cell_type": "code",
   "execution_count": 5,
   "metadata": {
    "colab": {
     "autoexec": {
      "startup": false,
      "wait_interval": 0
     },
     "base_uri": "https://localhost:8080/",
     "height": 105,
     "output_extras": [
      {
       "item_id": 3
      },
      {
       "item_id": 4
      }
     ]
    },
    "colab_type": "code",
    "executionInfo": {
     "elapsed": 1173,
     "status": "ok",
     "timestamp": 1518129185923,
     "user": {
      "displayName": "Ezequiel Arneodo",
      "photoUrl": "https://lh3.googleusercontent.com/a/default-user=s128",
      "userId": "117632829181518881344"
     },
     "user_tz": 480
    },
    "id": "1wx7qYWvSue2",
    "outputId": "75951c0c-838b-4c90-dab6-1bee20506ee6"
   },
   "outputs": [
    {
     "name": "stderr",
     "output_type": "stream",
     "text": [
      "2018-02-08 22:32:22,310 googleapiclient.discovery INFO     URL being requested: GET https://www.googleapis.com/drive/v3/files?q=parents%3D%270BxJutEqkpkV4bXZNaklSbm1wLUk%27+and+trashed%3Dfalse+and+name%3D%27tuvieja2%27&fields=files%28id%2C+name%2C+mimeType%2C+parents%2C+size%29&alt=json\n",
      "2018-02-08 22:32:22,537 googleapiclient.discovery INFO     URL being requested: POST https://www.googleapis.com/drive/v3/files?fields=id&alt=json\n",
      "2018-02-08 22:32:23,067 googleapiclient.discovery INFO     URL being requested: GET https://www.googleapis.com/drive/v3/files?q=parents%3D%270BxJutEqkpkV4bXZNaklSbm1wLUk%27+and+trashed%3Dfalse&fields=files%28id%2C+name%2C+mimeType%2C+parents%2C+size%29&alt=json\n"
     ]
    },
    {
     "data": {
      "text/plain": [
       "['tuvieja2', 'tuvieja', 'z017', 'z020', 'z007']"
      ]
     },
     "execution_count": 5,
     "metadata": {
      "tags": []
     },
     "output_type": "execute_result"
    }
   ],
   "source": [
    "one_drive.mkdir(plist[0], 'tuvieja2')\n",
    "one_drive.listdir(plist[0])"
   ]
  },
  {
   "cell_type": "code",
   "execution_count": 6,
   "metadata": {
    "colab": {
     "autoexec": {
      "startup": false,
      "wait_interval": 0
     },
     "base_uri": "https://localhost:8080/",
     "height": 190,
     "output_extras": [
      {
       "item_id": 4
      },
      {
       "item_id": 5
      },
      {
       "item_id": 25
      },
      {
       "item_id": 26
      }
     ]
    },
    "colab_type": "code",
    "executionInfo": {
     "elapsed": 13328,
     "status": "ok",
     "timestamp": 1518129208019,
     "user": {
      "displayName": "Ezequiel Arneodo",
      "photoUrl": "https://lh3.googleusercontent.com/a/default-user=s128",
      "userId": "117632829181518881344"
     },
     "user_tz": 480
    },
    "id": "ChxogEObUltc",
    "outputId": "64f4b2fd-b8b2-4aa9-fc85-fbe46ab0b72b"
   },
   "outputs": [
    {
     "name": "stderr",
     "output_type": "stream",
     "text": [
      "2018-02-08 22:32:32,260 googleapiclient.discovery INFO     URL being requested: GET https://www.googleapis.com/drive/v3/files?q=parents%3D%27root%27+and+trashed%3Dfalse+and+name%3D%27colab_play%27&fields=files%28id%2C+name%2C+mimeType%2C+parents%2C+size%29&alt=json\n",
      "2018-02-08 22:32:32,462 googleapiclient.discovery INFO     URL being requested: GET https://www.googleapis.com/drive/v3/files?q=parents%3D%271ByVIQVo9ZEEVzAj8GKXbuphyH5ropcej%27+and+trashed%3Dfalse+and+name%3D%27folder_a%27&fields=files%28id%2C+name%2C+mimeType%2C+parents%2C+size%29&alt=json\n",
      "2018-02-08 22:32:32,634 googleapiclient.discovery INFO     URL being requested: GET https://www.googleapis.com/drive/v3/files?q=parents%3D%271o2sa2WwUeJuzL7bRGuvVO_Gqaeuhnc0d%27+and+trashed%3Dfalse+and+name%3D%27raw.rhd%27&fields=files%28id%2C+name%2C+mimeType%2C+parents%2C+size%29&alt=json\n",
      "2018-02-08 22:32:32,799 googleapiclient.discovery INFO     URL being requested: GET https://www.googleapis.com/drive/v3/files/1lLeLxvxlSExetN3BJ3o8YVpVIm7tKhLT?fields=id%2C+name%2C+size&alt=json\n",
      "2018-02-08 22:32:32,964 root         INFO     Downloading file raw.rhd to folder /content/.cache\n",
      "2018-02-08 22:32:32,968 googleapiclient.discovery INFO     URL being requested: GET https://www.googleapis.com/drive/v3/files/1lLeLxvxlSExetN3BJ3o8YVpVIm7tKhLT?alt=media\n"
     ]
    },
    {
     "name": "stdout",
     "output_type": "stream",
     "text": [
      "{'id': '1lLeLxvxlSExetN3BJ3o8YVpVIm7tKhLT', 'name': 'raw.rhd', 'size': '17948002'}\n"
     ]
    },
    {
     "name": "stderr",
     "output_type": "stream",
     "text": [
      "18it [00:12,  1.47it/s]                        2018-02-08 22:32:45,348 root         INFO     Download complete\n"
     ]
    },
    {
     "data": {
      "text/plain": [
       "['raw.rhd', 'pip', 'matplotlib']"
      ]
     },
     "execution_count": 6,
     "metadata": {
      "tags": []
     },
     "output_type": "execute_result"
    }
   ],
   "source": [
    "one_elem = one_drive.get_by_path('/colab_play/folder_a/raw.rhd')\n",
    "download_file(one_drive.service, one_elem['id'], os.path.abspath('.cache'))\n",
    "\n",
    "os.listdir(os.path.abspath('.cache'))"
   ]
  },
  {
   "cell_type": "code",
   "execution_count": 7,
   "metadata": {
    "colab": {
     "autoexec": {
      "startup": false,
      "wait_interval": 0
     },
     "base_uri": "https://localhost:8080/",
     "height": 411,
     "output_extras": [
      {
       "item_id": 2
      },
      {
       "item_id": 10
      }
     ]
    },
    "colab_type": "code",
    "executionInfo": {
     "elapsed": 3311,
     "status": "ok",
     "timestamp": 1518129233168,
     "user": {
      "displayName": "Ezequiel Arneodo",
      "photoUrl": "https://lh3.googleusercontent.com/a/default-user=s128",
      "userId": "117632829181518881344"
     },
     "user_tz": 480
    },
    "id": "tHARqgH3gnGK",
    "outputId": "c56288cf-6809-47f9-d148-d1445a7849f5"
   },
   "outputs": [
    {
     "name": "stderr",
     "output_type": "stream",
     "text": [
      "2018-02-08 22:33:07,453 googleapiclient.discovery INFO     URL being requested: GET https://www.googleapis.com/drive/v3/files?q=parents%3D%27root%27+and+trashed%3Dfalse+and+name%3D%27colab_play%27&fields=files%28id%2C+name%2C+mimeType%2C+parents%2C+size%29&alt=json\n",
      "2018-02-08 22:33:07,664 googleapiclient.discovery INFO     URL being requested: POST https://www.googleapis.com/upload/drive/v3/files?alt=json&uploadType=resumable\n"
     ]
    },
    {
     "name": "stdout",
     "output_type": "stream",
     "text": [
      "file size 17948002\n",
      "byts in 0\n",
      "byts in 1048576\n",
      "byts in 2097152\n",
      "byts in 3145728\n",
      "byts in 4194304\n",
      "byts in 5242880\n",
      "byts in 6291456\n",
      "byts in 7340032\n",
      "byts in 8388608\n",
      "byts in 9437184\n",
      "byts in 10485760\n",
      "byts in 11534336\n",
      "byts in 12582912\n",
      "byts in 13631488\n",
      "byts in 14680064\n",
      "byts in 15728640\n",
      "byts in 16777216\n",
      "byts in 17825792\n",
      "Upload Complete!\n"
     ]
    }
   ],
   "source": [
    "def upload_file(service, parent_obj, file_path, retries=5, chunk_size=1048576):\n",
    "  \n",
    "  file_size = os.path.getsize(file_path)\n",
    "\n",
    "  file_metadata = {'name': os.path.split(file_path)[-1], \n",
    "                  'parents': [parent_obj['id']],\n",
    "                  'content-length':chunk_size,\n",
    "                  'content-range': '*/{}'.format(file_size)}\n",
    "                            \n",
    "  media = MediaFileUpload(local_file,\n",
    "                         resumable=True,\n",
    "                         chunksize=chunk_size)\n",
    "\n",
    "  request = one_drive.service.files().create(body=file_metadata, \n",
    "                                             media_body=media)\n",
    "  done = False\n",
    "  total_chunks = int(file_obj['size']) // chunk_size\n",
    "    sys.stdout.flush()\n",
    "    progress_bar = tqdm.tqdm(total=total_chunks)\n",
    "  bytes_in = 0\n",
    "  response = None\n",
    "  sys.stdout.flush()\n",
    "  print('file size {}'.format(file_size))\n",
    "  #progress_bar = tqdm.tqdm(total=file_size)\n",
    "  while response is None:\n",
    "    try:\n",
    "      print('byts in {}'.format(bytes_in))\n",
    "      file_metadata['content_range'] = '{0}-{1}/{2}'.format(bytes_in, \n",
    "                                                            bytes_in + chunk_size,\n",
    "                                                           file_size)\n",
    "      file_metadata['content-length'] = '{0}'.format(chunk_size)\n",
    "      status, response = request.next_chunk()\n",
    "      bytes_in = bytes_in + chunk_size\n",
    "      chunk_size = min(chunk_size, file_size - bytes_in)\n",
    "      #progres_bar.update(chunk_size)\n",
    "    except:\n",
    "      #raise\n",
    "      print('aborted')\n",
    "      return request, status, response\n",
    "  \n",
    "  print(\"Upload Complete!\")\n",
    "  return request, status, response\n",
    "\n",
    "\n",
    "\n",
    "local_file = '.cache/raw.rhd'\n",
    "parent_obj = one_drive.get_by_path('/colab_play')\n",
    "\n",
    "req, st, resp = upload_file(one_drive.service, parent_obj, local_file)\n"
   ]
  },
  {
   "cell_type": "code",
   "execution_count": 23,
   "metadata": {
    "colab": {
     "autoexec": {
      "startup": false,
      "wait_interval": 0
     },
     "base_uri": "https://localhost:8080/",
     "height": 54,
     "output_extras": [
      {
       "item_id": 1
      }
     ]
    },
    "colab_type": "code",
    "executionInfo": {
     "elapsed": 254,
     "status": "ok",
     "timestamp": 1517022694857,
     "user": {
      "displayName": "Ezequiel Arneodo",
      "photoUrl": "https://lh3.googleusercontent.com/a/default-user=s128",
      "userId": "117632829181518881344"
     },
     "user_tz": 480
    },
    "id": "82cmLMwloNnd",
    "outputId": "30fd43d5-1dc9-4ffd-feed-f36e34bfc899"
   },
   "outputs": [
    {
     "data": {
      "text/plain": [
       "'{\"uri\": \"https://www.googleapis.com/upload/drive/v3/files?alt=json&uploadType=resumable\", \"method\": \"POST\", \"body\": \"{\\\\\"name\\\\\": \\\\\"raw.rhd\\\\\", \\\\\"parents\\\\\": [\\\\\"1ByVIQVo9ZEEVzAj8GKXbuphyH5ropcej\\\\\"], \\\\\"content-length\\\\\": 1048576, \\\\\"content-range\\\\\": \\\\\"*/17948002\\\\\"}\", \"headers\": {\"accept\": \"application/json\", \"accept-encoding\": \"gzip, deflate\", \"user-agent\": \"google-api-python-client/1.6.5 (gzip)\", \"content-type\": \"application/json\"}, \"methodId\": \"drive.files.create\", \"resumable\": \"{\\\\\"_filename\\\\\": \\\\\".cache/raw.rhd\\\\\", \\\\\"_mimetype\\\\\": \\\\\"application/octet-stream\\\\\", \\\\\"_chunksize\\\\\": 1048576, \\\\\"_resumable\\\\\": true, \\\\\"_size\\\\\": 17948002, \\\\\"_class\\\\\": \\\\\"MediaFileUpload\\\\\", \\\\\"_module\\\\\": \\\\\"googleapiclient.http\\\\\"}\", \"response_callbacks\": [], \"_in_error_state\": true, \"body_size\": 127, \"resumable_uri\": \"https://www.googleapis.com/upload/drive/v3/files?alt=json&uploadType=resumable&upload_id=AEnB2Ur3dYaoS00N4bsu9rxj8lOTDgmT8daGZhUOseN2kDnlZZHwv3K_P5o6wEP5jybkRI-dAofGwQ9WjLAVSu2qrAH0oBORYg\", \"resumable_progress\": 17825792}'"
      ]
     },
     "execution_count": 23,
     "metadata": {
      "tags": []
     },
     "output_type": "execute_result"
    }
   ],
   "source": [
    "req.to_json()"
   ]
  },
  {
   "cell_type": "code",
   "execution_count": 0,
   "metadata": {
    "colab": {
     "autoexec": {
      "startup": false,
      "wait_interval": 0
     }
    },
    "colab_type": "code",
    "collapsed": true,
    "id": "WI--KfOalwlK"
   },
   "outputs": [],
   "source": []
  },
  {
   "cell_type": "code",
   "execution_count": 37,
   "metadata": {
    "colab": {
     "autoexec": {
      "startup": false,
      "wait_interval": 0
     },
     "base_uri": "https://localhost:8080/",
     "height": 54,
     "output_extras": [
      {
       "item_id": 1
      }
     ]
    },
    "colab_type": "code",
    "executionInfo": {
     "elapsed": 442,
     "status": "ok",
     "timestamp": 1517022929570,
     "user": {
      "displayName": "Ezequiel Arneodo",
      "photoUrl": "https://lh3.googleusercontent.com/a/default-user=s128",
      "userId": "117632829181518881344"
     },
     "user_tz": 480
    },
    "id": "Ijl4YykiouXs",
    "outputId": "9662bbfb-a7e2-49bb-848a-c9ca8f5870b2"
   },
   "outputs": [
    {
     "name": "stderr",
     "output_type": "stream",
     "text": [
      "2018-01-27 03:14:46,713 googleapiclient.discovery INFO     URL being requested: POST https://www.googleapis.com/drive/v3/files?alt=json\n"
     ]
    }
   ],
   "source": [
    "fls = one_drive.service.files().create()"
   ]
  },
  {
   "cell_type": "code",
   "execution_count": 9,
   "metadata": {
    "colab": {
     "autoexec": {
      "startup": false,
      "wait_interval": 0
     },
     "base_uri": "https://localhost:8080/",
     "height": 54,
     "output_extras": [
      {
       "item_id": 1
      }
     ]
    },
    "colab_type": "code",
    "executionInfo": {
     "elapsed": 673,
     "status": "ok",
     "timestamp": 1517023364542,
     "user": {
      "displayName": "Ezequiel Arneodo",
      "photoUrl": "https://lh3.googleusercontent.com/a/default-user=s128",
      "userId": "117632829181518881344"
     },
     "user_tz": 480
    },
    "id": "3eI_cN6gmj7A",
    "outputId": "e07fb615-1ae5-4e4b-b14c-fa4346223cc0"
   },
   "outputs": [
    {
     "name": "stderr",
     "output_type": "stream",
     "text": [
      "2018-01-27 03:22:01,452 googleapiclient.discovery INFO     URL being requested: POST https://www.googleapis.com/drive/v3/files?alt=json\n"
     ]
    }
   ],
   "source": [
    "file_metadata = {'content-length':0,\n",
    "                'content-range': '*/{}'.format(17948002)}\n",
    "fls = one_drive.service.files().create(body=file_metadata)\n",
    "fls.resumable_uri = req.resumable_uri\n",
    "fls.to_json()\n",
    "r = fls.execute()"
   ]
  },
  {
   "cell_type": "code",
   "execution_count": 10,
   "metadata": {
    "colab": {
     "autoexec": {
      "startup": false,
      "wait_interval": 0
     },
     "base_uri": "https://localhost:8080/",
     "height": 85,
     "output_extras": [
      {
       "item_id": 1
      }
     ]
    },
    "colab_type": "code",
    "executionInfo": {
     "elapsed": 254,
     "status": "ok",
     "timestamp": 1517023371743,
     "user": {
      "displayName": "Ezequiel Arneodo",
      "photoUrl": "https://lh3.googleusercontent.com/a/default-user=s128",
      "userId": "117632829181518881344"
     },
     "user_tz": 480
    },
    "id": "mURP2GZmn0YD",
    "outputId": "dbbd83d1-7318-4a75-c821-2d7271bde59e"
   },
   "outputs": [
    {
     "data": {
      "text/plain": [
       "{'id': '1GzyTfYotcuZ2_Pnql54-hp0RNz3DR0zk',\n",
       " 'kind': 'drive#file',\n",
       " 'mimeType': 'application/octet-stream',\n",
       " 'name': 'Untitled'}"
      ]
     },
     "execution_count": 10,
     "metadata": {
      "tags": []
     },
     "output_type": "execute_result"
    }
   ],
   "source": [
    "r"
   ]
  },
  {
   "cell_type": "code",
   "execution_count": 77,
   "metadata": {
    "colab": {
     "autoexec": {
      "startup": false,
      "wait_interval": 0
     },
     "base_uri": "https://localhost:8080/",
     "height": 54,
     "output_extras": [
      {
       "item_id": 1
      }
     ]
    },
    "colab_type": "code",
    "executionInfo": {
     "elapsed": 273,
     "status": "ok",
     "timestamp": 1517018769037,
     "user": {
      "displayName": "Ezequiel Arneodo",
      "photoUrl": "https://lh3.googleusercontent.com/a/default-user=s128",
      "userId": "117632829181518881344"
     },
     "user_tz": 480
    },
    "id": "kOHBgsJQov6d",
    "outputId": "002cfb62-6ec9-4e8f-e5ca-f67108b6b656"
   },
   "outputs": [
    {
     "name": "stderr",
     "output_type": "stream",
     "text": [
      "2018-01-27 02:05:26,356 googleapiclient.discovery INFO     URL being requested: POST https://www.googleapis.com/upload/drive/v3/files?alt=json&uploadType=resumable\n"
     ]
    }
   ],
   "source": [
    "file_metadata = {'name': 'tuvieja.wav', \n",
    "                'parents': [parent_obj['id']],\n",
    "                'content-length':local_file_size,\n",
    "                'content-range': '*/{}'.format(local_file_size)}\n",
    "                            \n",
    "media = MediaFileUpload(local_file,\n",
    "                       resumable=True,\n",
    "                       chunksize=chunk_size)\n",
    "\n",
    "request = one_drive.service.files().create(body=file_metadata, \n",
    "                                           media_body=media)"
   ]
  },
  {
   "cell_type": "code",
   "execution_count": 0,
   "metadata": {
    "colab": {
     "autoexec": {
      "startup": false,
      "wait_interval": 0
     }
    },
    "colab_type": "code",
    "collapsed": true,
    "id": "S6FG79kaP6MQ"
   },
   "outputs": [],
   "source": [
    "fls.create?"
   ]
  },
  {
   "cell_type": "code",
   "execution_count": 0,
   "metadata": {
    "colab": {
     "autoexec": {
      "startup": false,
      "wait_interval": 0
     }
    },
    "colab_type": "code",
    "collapsed": true,
    "id": "Llv5q_68TUQC"
   },
   "outputs": [],
   "source": [
    "re_request = one_drive.service.files().create(body={}, \n",
    "                                           media_body=media)"
   ]
  }
 ],
 "metadata": {
  "colab": {
   "collapsed_sections": [],
   "default_view": {},
   "name": "drive_paths.ipynb",
   "provenance": [],
   "version": "0.3.2",
   "views": {}
  },
  "kernelspec": {
   "display_name": "Python [conda env:py35]",
   "language": "python",
   "name": "conda-env-py35-py"
  },
  "language_info": {
   "codemirror_mode": {
    "name": "ipython",
    "version": 3
   },
   "file_extension": ".py",
   "mimetype": "text/x-python",
   "name": "python",
   "nbconvert_exporter": "python",
   "pygments_lexer": "ipython3",
   "version": "3.5.3"
  }
 },
 "nbformat": 4,
 "nbformat_minor": 1
}
